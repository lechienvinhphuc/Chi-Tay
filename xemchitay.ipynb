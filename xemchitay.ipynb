{
  "nbformat": 4,
  "nbformat_minor": 0,
  "metadata": {
    "colab": {
      "name": "xemchitay.ipynb",
      "provenance": []
    },
    "kernelspec": {
      "name": "python3",
      "display_name": "Python 3"
    },
    "language_info": {
      "name": "python"
    }
  },
  "cells": [
    {
      "cell_type": "code",
      "execution_count": null,
      "metadata": {
        "id": "figUHvX_289A"
      },
      "outputs": [],
      "source": [
        "import numpy as np\n",
        "import tensorflow as tf\n",
        "from tensorflow.keras.models import load_model\n",
        "from tensorflow.keras.utils import load_img\n",
        "from tensorflow.keras.utils import img_to_array\n",
        "from tensorflow.keras.optimizers import SGD,Adam\n",
        "from tensorflow.keras.preprocessing.image import ImageDataGenerator\n",
        "import matplotlib.pyplot as plt\n",
        "from keras.models import Sequential \n",
        "from keras.utils import np_utils\n",
        "from keras.layers import Dense,Activation,Dropout,LSTM,BatchNormalization\n",
        "from keras.layers import Flatten\n",
        "from tensorflow.keras.optimizers import RMSprop\n",
        "from tensorflow.keras.utils import to_categorical\n",
        "from keras.layers.convolutional import Conv2D\n",
        "from keras.layers.convolutional import MaxPooling2D"
      ]
    },
    {
      "cell_type": "code",
      "source": [
        "from google.colab import drive\n",
        "drive.mount('/content/drive')"
      ],
      "metadata": {
        "colab": {
          "base_uri": "https://localhost:8080/"
        },
        "id": "FG88glCu2-4_",
        "outputId": "429fab47-d249-40cf-aef7-d28cb314c322"
      },
      "execution_count": null,
      "outputs": [
        {
          "output_type": "stream",
          "name": "stdout",
          "text": [
            "Drive already mounted at /content/drive; to attempt to forcibly remount, call drive.mount(\"/content/drive\", force_remount=True).\n"
          ]
        }
      ]
    },
    {
      "cell_type": "code",
      "source": [
        "data_generator = ImageDataGenerator(rescale=1./255,validation_split=0.1,width_shift_range=0.2,height_shift_range=0.2,zoom_range=0.2,horizontal_flip=True)"
      ],
      "metadata": {
        "id": "3_siqzqi3A9Q"
      },
      "execution_count": null,
      "outputs": []
    },
    {
      "cell_type": "code",
      "source": [
        "trainset='/content/drive/MyDrive/Colab Notebooks/Chi tay'"
      ],
      "metadata": {
        "id": "JTzc_JZ63CBo"
      },
      "execution_count": null,
      "outputs": []
    },
    {
      "cell_type": "code",
      "source": [
        "train_dataset=data_generator.flow_from_directory(trainset,\n",
        "                                     target_size=(100,100),\n",
        "                                     batch_size=128,\n",
        "                                     class_mode='categorical',\n",
        "                                     subset=\"training\",\n",
        "                                     shuffle=True,)\n",
        "validation_set=data_generator.flow_from_directory(trainset,\n",
        "                                              target_size=(100,100),\n",
        "                                              batch_size=128,\n",
        "                                              class_mode='categorical',\n",
        "                                              subset=\"validation\",\n",
        "                                              shuffle=True)"
      ],
      "metadata": {
        "colab": {
          "base_uri": "https://localhost:8080/"
        },
        "id": "0xJhUJuT3DW2",
        "outputId": "9cee3d99-228b-4c5c-a8ef-b45ed2793c55"
      },
      "execution_count": null,
      "outputs": [
        {
          "output_type": "stream",
          "name": "stdout",
          "text": [
            "Found 15 images belonging to 5 classes.\n",
            "Found 0 images belonging to 5 classes.\n"
          ]
        }
      ]
    },
    {
      "cell_type": "code",
      "source": [
        "validation_set.class_indices"
      ],
      "metadata": {
        "colab": {
          "base_uri": "https://localhost:8080/"
        },
        "id": "dBTmV1zq3EVD",
        "outputId": "93fceb9c-0d91-46cb-cdc0-5c19979cad20"
      },
      "execution_count": null,
      "outputs": [
        {
          "output_type": "execute_result",
          "data": {
            "text/plain": [
              "{'A': 0, 'B': 1, 'C': 2, 'D': 3, 'E': 4}"
            ]
          },
          "metadata": {},
          "execution_count": 6
        }
      ]
    },
    {
      "cell_type": "code",
      "source": [
        "model = Sequential()\n",
        "model.add(Conv2D(32,(3,3),activation='relu',kernel_initializer='he_uniform',padding ='same',input_shape=(100,100,3)))\n",
        "model.add(Conv2D(32,(3,3),activation='relu',kernel_initializer='he_uniform',padding ='same'))\n",
        "model.add(MaxPooling2D((2,2)))\n",
        "model.add(Conv2D(64,(3,3),activation='relu',kernel_initializer='he_uniform',padding ='same'))\n",
        "model.add(Conv2D(64,(3,3),activation='relu',kernel_initializer='he_uniform',padding ='same'))\n",
        "model.add(MaxPooling2D((2,2)))\n",
        "model.add(Conv2D(128,(3,3),activation='relu',kernel_initializer='he_uniform',padding ='same'))\n",
        "model.add(Conv2D(128,(3,3),activation='relu',kernel_initializer='he_uniform',padding ='same'))\n",
        "model.add(MaxPooling2D((2,2)))\n",
        "model.add(Flatten())\n",
        "model.add(Dense(256,activation='relu',kernel_initializer='he_uniform'))\n",
        "model.add(Dropout(0.2))\n",
        "model.add(Dense(5,activation='softmax'))"
      ],
      "metadata": {
        "id": "bjPSB9bB3Guk"
      },
      "execution_count": null,
      "outputs": []
    },
    {
      "cell_type": "code",
      "source": [
        "model.compile(loss='categorical_crossentropy',optimizer='adam',metrics=['accuracy'])\n",
        "model.fit(train_dataset,batch_size=128,epochs=100,verbose=1,validation_data=validation_set)"
      ],
      "metadata": {
        "colab": {
          "base_uri": "https://localhost:8080/"
        },
        "id": "6gia7NIK3IC4",
        "outputId": "31edd7cc-e84e-457a-8341-1f8dca7f7e02"
      },
      "execution_count": null,
      "outputs": [
        {
          "output_type": "stream",
          "name": "stdout",
          "text": [
            "Epoch 1/100\n",
            "1/1 [==============================] - 2s 2s/step - loss: 1.9126 - accuracy: 0.1333\n",
            "Epoch 2/100\n",
            "1/1 [==============================] - 1s 927ms/step - loss: 6.7325 - accuracy: 0.1333\n",
            "Epoch 3/100\n",
            "1/1 [==============================] - 1s 952ms/step - loss: 3.9257 - accuracy: 0.1333\n",
            "Epoch 4/100\n",
            "1/1 [==============================] - 1s 936ms/step - loss: 1.8275 - accuracy: 0.2000\n",
            "Epoch 5/100\n",
            "1/1 [==============================] - 1s 937ms/step - loss: 1.7573 - accuracy: 0.2000\n",
            "Epoch 6/100\n",
            "1/1 [==============================] - 1s 932ms/step - loss: 1.5147 - accuracy: 0.2667\n",
            "Epoch 7/100\n",
            "1/1 [==============================] - 1s 929ms/step - loss: 1.6309 - accuracy: 0.2000\n",
            "Epoch 8/100\n",
            "1/1 [==============================] - 1s 943ms/step - loss: 1.5059 - accuracy: 0.4667\n",
            "Epoch 9/100\n",
            "1/1 [==============================] - 1s 930ms/step - loss: 1.3103 - accuracy: 0.6667\n",
            "Epoch 10/100\n",
            "1/1 [==============================] - 1s 929ms/step - loss: 1.4062 - accuracy: 0.4000\n",
            "Epoch 11/100\n",
            "1/1 [==============================] - 1s 933ms/step - loss: 1.3206 - accuracy: 0.4000\n",
            "Epoch 12/100\n",
            "1/1 [==============================] - 1s 947ms/step - loss: 1.4100 - accuracy: 0.2667\n",
            "Epoch 13/100\n",
            "1/1 [==============================] - 1s 922ms/step - loss: 1.5395 - accuracy: 0.3333\n",
            "Epoch 14/100\n",
            "1/1 [==============================] - 1s 1s/step - loss: 1.2660 - accuracy: 0.4667\n",
            "Epoch 15/100\n",
            "1/1 [==============================] - 1s 941ms/step - loss: 1.1626 - accuracy: 0.3333\n",
            "Epoch 16/100\n",
            "1/1 [==============================] - 1s 941ms/step - loss: 1.3038 - accuracy: 0.2667\n",
            "Epoch 17/100\n",
            "1/1 [==============================] - 1s 949ms/step - loss: 1.2058 - accuracy: 0.3333\n",
            "Epoch 18/100\n",
            "1/1 [==============================] - 1s 938ms/step - loss: 1.0429 - accuracy: 0.5333\n",
            "Epoch 19/100\n",
            "1/1 [==============================] - 1s 946ms/step - loss: 1.1354 - accuracy: 0.5333\n",
            "Epoch 20/100\n",
            "1/1 [==============================] - 1s 951ms/step - loss: 1.0761 - accuracy: 0.5333\n",
            "Epoch 21/100\n",
            "1/1 [==============================] - 1s 949ms/step - loss: 0.8701 - accuracy: 0.7333\n",
            "Epoch 22/100\n",
            "1/1 [==============================] - 1s 947ms/step - loss: 1.1490 - accuracy: 0.5333\n",
            "Epoch 23/100\n",
            "1/1 [==============================] - 1s 950ms/step - loss: 1.2206 - accuracy: 0.4667\n",
            "Epoch 24/100\n",
            "1/1 [==============================] - 1s 948ms/step - loss: 0.9537 - accuracy: 0.4000\n",
            "Epoch 25/100\n",
            "1/1 [==============================] - 1s 973ms/step - loss: 0.8937 - accuracy: 0.6000\n",
            "Epoch 26/100\n",
            "1/1 [==============================] - 1s 962ms/step - loss: 0.8645 - accuracy: 0.7333\n",
            "Epoch 27/100\n",
            "1/1 [==============================] - 1s 950ms/step - loss: 0.9275 - accuracy: 0.6667\n",
            "Epoch 28/100\n",
            "1/1 [==============================] - 1s 940ms/step - loss: 0.9334 - accuracy: 0.6000\n",
            "Epoch 29/100\n",
            "1/1 [==============================] - 1s 943ms/step - loss: 1.0080 - accuracy: 0.6000\n",
            "Epoch 30/100\n",
            "1/1 [==============================] - 1s 943ms/step - loss: 0.8080 - accuracy: 0.6667\n",
            "Epoch 31/100\n",
            "1/1 [==============================] - 1s 952ms/step - loss: 0.9352 - accuracy: 0.7333\n",
            "Epoch 32/100\n",
            "1/1 [==============================] - 1s 949ms/step - loss: 0.7355 - accuracy: 0.8000\n",
            "Epoch 33/100\n",
            "1/1 [==============================] - 1s 944ms/step - loss: 0.9063 - accuracy: 0.6667\n",
            "Epoch 34/100\n",
            "1/1 [==============================] - 1s 947ms/step - loss: 0.7989 - accuracy: 0.7333\n",
            "Epoch 35/100\n",
            "1/1 [==============================] - 1s 958ms/step - loss: 1.0094 - accuracy: 0.6667\n",
            "Epoch 36/100\n",
            "1/1 [==============================] - 1s 936ms/step - loss: 0.8260 - accuracy: 0.4667\n",
            "Epoch 37/100\n",
            "1/1 [==============================] - 1s 952ms/step - loss: 0.7219 - accuracy: 0.7333\n",
            "Epoch 38/100\n",
            "1/1 [==============================] - 1s 955ms/step - loss: 0.6484 - accuracy: 0.8000\n",
            "Epoch 39/100\n",
            "1/1 [==============================] - 1s 947ms/step - loss: 1.0831 - accuracy: 0.6667\n",
            "Epoch 40/100\n",
            "1/1 [==============================] - 1s 941ms/step - loss: 1.3093 - accuracy: 0.4000\n",
            "Epoch 41/100\n",
            "1/1 [==============================] - 1s 937ms/step - loss: 0.8890 - accuracy: 0.6667\n",
            "Epoch 42/100\n",
            "1/1 [==============================] - 1s 939ms/step - loss: 0.9327 - accuracy: 0.6000\n",
            "Epoch 43/100\n",
            "1/1 [==============================] - 1s 934ms/step - loss: 0.8963 - accuracy: 0.6667\n",
            "Epoch 44/100\n",
            "1/1 [==============================] - 1s 937ms/step - loss: 1.3784 - accuracy: 0.4667\n",
            "Epoch 45/100\n",
            "1/1 [==============================] - 1s 947ms/step - loss: 0.6878 - accuracy: 0.7333\n",
            "Epoch 46/100\n",
            "1/1 [==============================] - 1s 937ms/step - loss: 1.2726 - accuracy: 0.4000\n",
            "Epoch 47/100\n",
            "1/1 [==============================] - 1s 935ms/step - loss: 0.9151 - accuracy: 0.6000\n",
            "Epoch 48/100\n",
            "1/1 [==============================] - 1s 949ms/step - loss: 0.8512 - accuracy: 0.6000\n",
            "Epoch 49/100\n",
            "1/1 [==============================] - 1s 932ms/step - loss: 0.7983 - accuracy: 0.8000\n",
            "Epoch 50/100\n",
            "1/1 [==============================] - 1s 926ms/step - loss: 0.8488 - accuracy: 0.6667\n",
            "Epoch 51/100\n",
            "1/1 [==============================] - 1s 929ms/step - loss: 1.0409 - accuracy: 0.5333\n",
            "Epoch 52/100\n",
            "1/1 [==============================] - 1s 955ms/step - loss: 0.7873 - accuracy: 0.7333\n",
            "Epoch 53/100\n",
            "1/1 [==============================] - 1s 930ms/step - loss: 0.5865 - accuracy: 0.7333\n",
            "Epoch 54/100\n",
            "1/1 [==============================] - 1s 930ms/step - loss: 0.9434 - accuracy: 0.6667\n",
            "Epoch 55/100\n",
            "1/1 [==============================] - 1s 934ms/step - loss: 0.9500 - accuracy: 0.4667\n",
            "Epoch 56/100\n",
            "1/1 [==============================] - 1s 944ms/step - loss: 0.8331 - accuracy: 0.8667\n",
            "Epoch 57/100\n",
            "1/1 [==============================] - 1s 941ms/step - loss: 0.6782 - accuracy: 0.6667\n",
            "Epoch 58/100\n",
            "1/1 [==============================] - 1s 913ms/step - loss: 0.5978 - accuracy: 0.7333\n",
            "Epoch 59/100\n",
            "1/1 [==============================] - 1s 939ms/step - loss: 0.4771 - accuracy: 0.8667\n",
            "Epoch 60/100\n",
            "1/1 [==============================] - 1s 922ms/step - loss: 0.9407 - accuracy: 0.6667\n",
            "Epoch 61/100\n",
            "1/1 [==============================] - 1s 946ms/step - loss: 0.3689 - accuracy: 0.8667\n",
            "Epoch 62/100\n",
            "1/1 [==============================] - 1s 938ms/step - loss: 0.5887 - accuracy: 0.8667\n",
            "Epoch 63/100\n",
            "1/1 [==============================] - 1s 948ms/step - loss: 0.5143 - accuracy: 0.7333\n",
            "Epoch 64/100\n",
            "1/1 [==============================] - 1s 951ms/step - loss: 0.7457 - accuracy: 0.6000\n",
            "Epoch 65/100\n",
            "1/1 [==============================] - 1s 924ms/step - loss: 0.4784 - accuracy: 0.8667\n",
            "Epoch 66/100\n",
            "1/1 [==============================] - 1s 914ms/step - loss: 0.6061 - accuracy: 0.6000\n",
            "Epoch 67/100\n",
            "1/1 [==============================] - 1s 930ms/step - loss: 0.6153 - accuracy: 0.7333\n",
            "Epoch 68/100\n",
            "1/1 [==============================] - 1s 932ms/step - loss: 0.6744 - accuracy: 0.8000\n",
            "Epoch 69/100\n",
            "1/1 [==============================] - 1s 951ms/step - loss: 0.6928 - accuracy: 0.7333\n",
            "Epoch 70/100\n",
            "1/1 [==============================] - 1s 947ms/step - loss: 0.8992 - accuracy: 0.6667\n",
            "Epoch 71/100\n",
            "1/1 [==============================] - 1s 939ms/step - loss: 0.5222 - accuracy: 0.8000\n",
            "Epoch 72/100\n",
            "1/1 [==============================] - 1s 929ms/step - loss: 0.6426 - accuracy: 0.8667\n",
            "Epoch 73/100\n",
            "1/1 [==============================] - 1s 946ms/step - loss: 0.7325 - accuracy: 0.6667\n",
            "Epoch 74/100\n",
            "1/1 [==============================] - 1s 933ms/step - loss: 0.5503 - accuracy: 0.8667\n",
            "Epoch 75/100\n",
            "1/1 [==============================] - 1s 935ms/step - loss: 0.5969 - accuracy: 0.8667\n",
            "Epoch 76/100\n",
            "1/1 [==============================] - 1s 932ms/step - loss: 0.6182 - accuracy: 0.8000\n",
            "Epoch 77/100\n",
            "1/1 [==============================] - 1s 928ms/step - loss: 0.9453 - accuracy: 0.6667\n",
            "Epoch 78/100\n",
            "1/1 [==============================] - 1s 919ms/step - loss: 0.5841 - accuracy: 0.8000\n",
            "Epoch 79/100\n",
            "1/1 [==============================] - 1s 932ms/step - loss: 0.4088 - accuracy: 0.8667\n",
            "Epoch 80/100\n",
            "1/1 [==============================] - 1s 976ms/step - loss: 0.6683 - accuracy: 0.9333\n",
            "Epoch 81/100\n",
            "1/1 [==============================] - 1s 924ms/step - loss: 0.3434 - accuracy: 0.8667\n",
            "Epoch 82/100\n",
            "1/1 [==============================] - 1s 929ms/step - loss: 0.6301 - accuracy: 0.6000\n",
            "Epoch 83/100\n",
            "1/1 [==============================] - 1s 932ms/step - loss: 0.2780 - accuracy: 0.9333\n",
            "Epoch 84/100\n",
            "1/1 [==============================] - 1s 958ms/step - loss: 0.3576 - accuracy: 0.8667\n",
            "Epoch 85/100\n",
            "1/1 [==============================] - 1s 945ms/step - loss: 0.3909 - accuracy: 0.9333\n",
            "Epoch 86/100\n",
            "1/1 [==============================] - 1s 929ms/step - loss: 0.4433 - accuracy: 0.8667\n",
            "Epoch 87/100\n",
            "1/1 [==============================] - 1s 930ms/step - loss: 0.2695 - accuracy: 0.8667\n",
            "Epoch 88/100\n",
            "1/1 [==============================] - 1s 934ms/step - loss: 0.4986 - accuracy: 0.8000\n",
            "Epoch 89/100\n",
            "1/1 [==============================] - 1s 930ms/step - loss: 0.7089 - accuracy: 0.7333\n",
            "Epoch 90/100\n",
            "1/1 [==============================] - 1s 954ms/step - loss: 0.4905 - accuracy: 0.7333\n",
            "Epoch 91/100\n",
            "1/1 [==============================] - 1s 937ms/step - loss: 0.3179 - accuracy: 0.8667\n",
            "Epoch 92/100\n",
            "1/1 [==============================] - 1s 930ms/step - loss: 0.4222 - accuracy: 0.8000\n",
            "Epoch 93/100\n",
            "1/1 [==============================] - 1s 922ms/step - loss: 0.4591 - accuracy: 0.6667\n",
            "Epoch 94/100\n",
            "1/1 [==============================] - 1s 906ms/step - loss: 0.3250 - accuracy: 0.8667\n",
            "Epoch 95/100\n",
            "1/1 [==============================] - 1s 904ms/step - loss: 0.5534 - accuracy: 0.7333\n",
            "Epoch 96/100\n",
            "1/1 [==============================] - 1s 933ms/step - loss: 0.3742 - accuracy: 0.9333\n",
            "Epoch 97/100\n",
            "1/1 [==============================] - 1s 910ms/step - loss: 0.5134 - accuracy: 0.7333\n",
            "Epoch 98/100\n",
            "1/1 [==============================] - 1s 924ms/step - loss: 0.2994 - accuracy: 0.8667\n",
            "Epoch 99/100\n",
            "1/1 [==============================] - 1s 938ms/step - loss: 0.1873 - accuracy: 1.0000\n",
            "Epoch 100/100\n",
            "1/1 [==============================] - 1s 928ms/step - loss: 0.1962 - accuracy: 0.9333\n"
          ]
        },
        {
          "output_type": "execute_result",
          "data": {
            "text/plain": [
              "<keras.callbacks.History at 0x7f7e830383d0>"
            ]
          },
          "metadata": {},
          "execution_count": 8
        }
      ]
    },
    {
      "cell_type": "code",
      "source": [
        "train_dataset=data_generator.flow_from_directory(trainset,\n",
        "                                     target_size=(100,100),\n",
        "                                     batch_size=128,\n",
        "                                     class_mode='categorical',\n",
        "                                     subset=\"training\",\n",
        "                                     shuffle=True,)\n",
        "validation_set=data_generator.flow_from_directory(trainset,\n",
        "                                              target_size=(100,100),\n",
        "                                              batch_size=128,\n",
        "                                              class_mode='categorical',\n",
        "                                              subset=\"validation\",\n",
        "                                              shuffle=True)"
      ],
      "metadata": {
        "colab": {
          "base_uri": "https://localhost:8080/"
        },
        "id": "yhh_jjK13KTf",
        "outputId": "e62328b4-b44f-41a5-b66b-fd68849364f2"
      },
      "execution_count": null,
      "outputs": [
        {
          "output_type": "stream",
          "name": "stdout",
          "text": [
            "Found 15 images belonging to 5 classes.\n",
            "Found 0 images belonging to 5 classes.\n"
          ]
        }
      ]
    },
    {
      "cell_type": "code",
      "source": [
        "model.save('chitay.hs')"
      ],
      "metadata": {
        "colab": {
          "base_uri": "https://localhost:8080/"
        },
        "id": "RNbQL3bQ3KrL",
        "outputId": "f5f8ee8e-1a93-423a-ac50-5bc1a27cc403"
      },
      "execution_count": null,
      "outputs": [
        {
          "output_type": "stream",
          "name": "stdout",
          "text": [
            "INFO:tensorflow:Assets written to: chitay.hs/assets\n"
          ]
        }
      ]
    },
    {
      "cell_type": "code",
      "source": [
        "model1=load_model('chitay.hs')"
      ],
      "metadata": {
        "id": "rclmZHfL3Mpp"
      },
      "execution_count": null,
      "outputs": []
    },
    {
      "cell_type": "code",
      "source": [
        "import numpy as np\n",
        "from tensorflow.keras.utils import load_img,img_to_array\n",
        "img=load_img('/content/test.jpg',target_size=(100,100))\n",
        "img=img_to_array(img)\n",
        "img=img.reshape(1,100,100,3)\n",
        "img=img.astype('float32')\n",
        "img=img/255\n",
        "np.argmax(model1.predict(img),axis=-1)"
      ],
      "metadata": {
        "colab": {
          "base_uri": "https://localhost:8080/"
        },
        "id": "72r6Jq9U3OOh",
        "outputId": "fffaddcc-1c3b-45e2-a953-0f87c6a4cecb"
      },
      "execution_count": null,
      "outputs": [
        {
          "output_type": "execute_result",
          "data": {
            "text/plain": [
              "array([3])"
            ]
          },
          "metadata": {},
          "execution_count": 12
        }
      ]
    },
    {
      "cell_type": "code",
      "source": [
        "label = ['a','b','c','d','e']"
      ],
      "metadata": {
        "id": "k7zxZHWG3Pf5"
      },
      "execution_count": null,
      "outputs": []
    },
    {
      "cell_type": "code",
      "source": [
        "import numpy as np\n",
        "from tensorflow.keras.utils import load_img,img_to_array\n",
        "img = load_img('/content/test.jpg', target_size = (100,100))\n",
        "plt.imshow(img)\n",
        "img = img_to_array(img)\n",
        "img = img.reshape(1,100,100,3) \n",
        "img = img.astype('float32')\n",
        "img = img/255\n",
        "print(label[np.argmax(model.predict(img))])"
      ],
      "metadata": {
        "colab": {
          "base_uri": "https://localhost:8080/",
          "height": 285
        },
        "id": "Snqm-ExS3Qzk",
        "outputId": "5f64d212-2f35-44a7-ba7d-2e0808437195"
      },
      "execution_count": null,
      "outputs": [
        {
          "output_type": "stream",
          "name": "stdout",
          "text": [
            "d\n"
          ]
        },
        {
          "output_type": "display_data",
          "data": {
            "text/plain": [
              "<Figure size 432x288 with 1 Axes>"
            ],
            "image/png": "[encoded data removed]"
          },
          "metadata": {
            "needs_background": "light"
          }
        }
      ]
    }
  ]
}